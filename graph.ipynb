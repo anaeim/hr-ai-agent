{
 "cells": [
  {
   "cell_type": "code",
   "execution_count": 33,
   "id": "135ebbc7",
   "metadata": {},
   "outputs": [],
   "source": [
    "import json\n",
    "import copy\n",
    "import pandas as pd\n",
    "import importlib\n",
    "from datetime import datetime\n",
    "from tqdm import tqdm\n",
    "\n",
    "from dotenv import load_dotenv"
   ]
  },
  {
   "cell_type": "code",
   "execution_count": 2,
   "id": "08664c0e",
   "metadata": {},
   "outputs": [
    {
     "data": {
      "text/plain": [
       "True"
      ]
     },
     "execution_count": 2,
     "metadata": {},
     "output_type": "execute_result"
    }
   ],
   "source": [
    "load_dotenv()"
   ]
  },
  {
   "cell_type": "code",
   "execution_count": 3,
   "id": "0e10e833",
   "metadata": {},
   "outputs": [],
   "source": [
    "from chains.skill_grader import skill_grader as skill_grader_chain\n"
   ]
  },
  {
   "cell_type": "code",
   "execution_count": 4,
   "id": "c5fba27f",
   "metadata": {},
   "outputs": [
    {
     "name": "stdout",
     "output_type": "stream",
     "text": [
      "(37, 3)\n"
     ]
    },
    {
     "data": {
      "text/html": [
       "<div>\n",
       "<style scoped>\n",
       "    .dataframe tbody tr th:only-of-type {\n",
       "        vertical-align: middle;\n",
       "    }\n",
       "\n",
       "    .dataframe tbody tr th {\n",
       "        vertical-align: top;\n",
       "    }\n",
       "\n",
       "    .dataframe thead th {\n",
       "        text-align: right;\n",
       "    }\n",
       "</style>\n",
       "<table border=\"1\" class=\"dataframe\">\n",
       "  <thead>\n",
       "    <tr style=\"text-align: right;\">\n",
       "      <th></th>\n",
       "      <th>pdf_path</th>\n",
       "      <th>pdf_name</th>\n",
       "      <th>pdf_content</th>\n",
       "    </tr>\n",
       "  </thead>\n",
       "  <tbody>\n",
       "    <tr>\n",
       "      <th>0</th>\n",
       "      <td>./../../../../data/sample_resume/Abdallah Elra...</td>\n",
       "      <td>Abdallah Elraey</td>\n",
       "      <td>\\n\\npage_number: 0\\nAbdallah Mohamed Jumaa ML ...</td>\n",
       "    </tr>\n",
       "    <tr>\n",
       "      <th>1</th>\n",
       "      <td>./../../../../data/sample_resume/Hadeel Mabrou...</td>\n",
       "      <td>Hadeel Mabrouk</td>\n",
       "      <td>\\n\\npage_number: 0\\nHadeel Emad Mabrouk\\n\\n+20...</td>\n",
       "    </tr>\n",
       "  </tbody>\n",
       "</table>\n",
       "</div>"
      ],
      "text/plain": [
       "                                            pdf_path         pdf_name  \\\n",
       "0  ./../../../../data/sample_resume/Abdallah Elra...  Abdallah Elraey   \n",
       "1  ./../../../../data/sample_resume/Hadeel Mabrou...   Hadeel Mabrouk   \n",
       "\n",
       "                                         pdf_content  \n",
       "0  \\n\\npage_number: 0\\nAbdallah Mohamed Jumaa ML ...  \n",
       "1  \\n\\npage_number: 0\\nHadeel Emad Mabrouk\\n\\n+20...  "
      ]
     },
     "metadata": {},
     "output_type": "display_data"
    }
   ],
   "source": [
    "# read pdf content\n",
    "pdf_files_contents = pd.read_csv('./data/pdf_files_contents.csv')\n",
    "print(pdf_files_contents.shape)\n",
    "display(pdf_files_contents.head(2))"
   ]
  },
  {
   "cell_type": "code",
   "execution_count": 5,
   "id": "fc5f37f0",
   "metadata": {},
   "outputs": [],
   "source": [
    "applicants_resume_analysis_df = pdf_files_contents.copy(deep=True)"
   ]
  },
  {
   "cell_type": "code",
   "execution_count": 6,
   "id": "02acd3f2",
   "metadata": {},
   "outputs": [
    {
     "data": {
      "text/plain": [
       "['object detection',\n",
       " 'semantic segmentation',\n",
       " 'image classification',\n",
       " 'computer vision',\n",
       " 'transformers',\n",
       " 'vision transformers']"
      ]
     },
     "execution_count": 6,
     "metadata": {},
     "output_type": "execute_result"
    }
   ],
   "source": [
    "# read desired skill list\n",
    "with open('./desired_skills.txt', 'r') as fh:\n",
    "    desired_skills_list = fh.read()\n",
    "\n",
    "desired_skills_list = desired_skills_list.split('\\n')\n",
    "desired_skills_list"
   ]
  },
  {
   "cell_type": "code",
   "execution_count": 7,
   "id": "95fb0e8d",
   "metadata": {},
   "outputs": [
    {
     "data": {
      "text/html": [
       "<div>\n",
       "<style scoped>\n",
       "    .dataframe tbody tr th:only-of-type {\n",
       "        vertical-align: middle;\n",
       "    }\n",
       "\n",
       "    .dataframe tbody tr th {\n",
       "        vertical-align: top;\n",
       "    }\n",
       "\n",
       "    .dataframe thead th {\n",
       "        text-align: right;\n",
       "    }\n",
       "</style>\n",
       "<table border=\"1\" class=\"dataframe\">\n",
       "  <thead>\n",
       "    <tr style=\"text-align: right;\">\n",
       "      <th></th>\n",
       "      <th>pdf_path</th>\n",
       "      <th>pdf_name</th>\n",
       "      <th>pdf_content</th>\n",
       "      <th>object detection</th>\n",
       "      <th>semantic segmentation</th>\n",
       "      <th>image classification</th>\n",
       "      <th>computer vision</th>\n",
       "      <th>transformers</th>\n",
       "      <th>vision transformers</th>\n",
       "    </tr>\n",
       "  </thead>\n",
       "  <tbody>\n",
       "    <tr>\n",
       "      <th>0</th>\n",
       "      <td>./../../../../data/sample_resume/Abdallah Elra...</td>\n",
       "      <td>Abdallah Elraey</td>\n",
       "      <td>\\n\\npage_number: 0\\nAbdallah Mohamed Jumaa ML ...</td>\n",
       "      <td>False</td>\n",
       "      <td>False</td>\n",
       "      <td>False</td>\n",
       "      <td>False</td>\n",
       "      <td>False</td>\n",
       "      <td>False</td>\n",
       "    </tr>\n",
       "    <tr>\n",
       "      <th>1</th>\n",
       "      <td>./../../../../data/sample_resume/Hadeel Mabrou...</td>\n",
       "      <td>Hadeel Mabrouk</td>\n",
       "      <td>\\n\\npage_number: 0\\nHadeel Emad Mabrouk\\n\\n+20...</td>\n",
       "      <td>False</td>\n",
       "      <td>False</td>\n",
       "      <td>False</td>\n",
       "      <td>False</td>\n",
       "      <td>False</td>\n",
       "      <td>False</td>\n",
       "    </tr>\n",
       "  </tbody>\n",
       "</table>\n",
       "</div>"
      ],
      "text/plain": [
       "                                            pdf_path         pdf_name  \\\n",
       "0  ./../../../../data/sample_resume/Abdallah Elra...  Abdallah Elraey   \n",
       "1  ./../../../../data/sample_resume/Hadeel Mabrou...   Hadeel Mabrouk   \n",
       "\n",
       "                                         pdf_content  object detection  \\\n",
       "0  \\n\\npage_number: 0\\nAbdallah Mohamed Jumaa ML ...             False   \n",
       "1  \\n\\npage_number: 0\\nHadeel Emad Mabrouk\\n\\n+20...             False   \n",
       "\n",
       "   semantic segmentation  image classification  computer vision  transformers  \\\n",
       "0                  False                 False            False         False   \n",
       "1                  False                 False            False         False   \n",
       "\n",
       "   vision transformers  \n",
       "0                False  \n",
       "1                False  "
      ]
     },
     "metadata": {},
     "output_type": "display_data"
    }
   ],
   "source": [
    "# add desired skill list as columns to applicants_resume_analysis_df\n",
    "for skill in desired_skills_list:\n",
    "    applicants_resume_analysis_df[skill] = False\n",
    "\n",
    "display(applicants_resume_analysis_df.head(2))"
   ]
  },
  {
   "cell_type": "markdown",
   "id": "61b93301",
   "metadata": {},
   "source": [
    "## 1. get desired_skill_score_dict for a list of desired skills"
   ]
  },
  {
   "cell_type": "code",
   "execution_count": 8,
   "id": "67131f85",
   "metadata": {},
   "outputs": [],
   "source": [
    "# desired_skill = desired_skills_list[-1]\n",
    "# desired_skill"
   ]
  },
  {
   "cell_type": "code",
   "execution_count": 9,
   "id": "0a86994f",
   "metadata": {},
   "outputs": [],
   "source": [
    "# pdf_content = pdf_files_contents.at[0, 'pdf_content']\n",
    "# pdf_name = pdf_files_contents.at[0, 'pdf_name']\n",
    "# print(f'pdf_name: {pdf_name}')\n",
    "# # print(pdf_content)"
   ]
  },
  {
   "cell_type": "code",
   "execution_count": 10,
   "id": "3764509d",
   "metadata": {},
   "outputs": [],
   "source": [
    "def skill_grader(desired_skill, resume_content):\n",
    "    skill_score = skill_grader_chain.invoke(\n",
    "        {\n",
    "            \"desired_skill\": desired_skill,  \n",
    "            \"resume_content\": resume_content\n",
    "        }\n",
    "    )\n",
    "\n",
    "    return skill_score"
   ]
  },
  {
   "cell_type": "code",
   "execution_count": 11,
   "id": "3bd76cad",
   "metadata": {},
   "outputs": [],
   "source": [
    "def get_desired_skill_score_dict(resume_content):\n",
    "    desired_skill_score_dict = dict()\n",
    "\n",
    "    for desired_skill in desired_skills_list:\n",
    "        skill_score = skill_grader(desired_skill, resume_content)\n",
    "        desired_skill_score_dict[desired_skill] = skill_score.binary_score\n",
    "    # print(f\"Skill: {desired_skill}\")\n",
    "    # print(f\"Present: {skill_score.binary_score}\")\n",
    "    # print(skill_score)\n",
    "\n",
    "    return desired_skill_score_dict\n",
    "\n"
   ]
  },
  {
   "cell_type": "code",
   "execution_count": 12,
   "id": "17e342fb",
   "metadata": {},
   "outputs": [],
   "source": [
    "# desired_skill_score_dict = get_desired_skill_score_dict(pdf_content)"
   ]
  },
  {
   "cell_type": "code",
   "execution_count": 13,
   "id": "b41cea6d",
   "metadata": {},
   "outputs": [],
   "source": [
    "# desired_skill_score_dict"
   ]
  },
  {
   "cell_type": "code",
   "execution_count": 14,
   "id": "7d8b2849",
   "metadata": {},
   "outputs": [],
   "source": [
    "for idx in range(applicants_resume_analysis_df.shape[0]):\n",
    "    pdf_content = applicants_resume_analysis_df.at[idx, 'pdf_content']\n",
    "    desired_skill_score_dict = get_desired_skill_score_dict(pdf_content)\n",
    "    for desired_skill in desired_skills_list:\n",
    "        applicants_resume_analysis_df.at[idx, desired_skill] = desired_skill_score_dict[desired_skill]"
   ]
  },
  {
   "cell_type": "code",
   "execution_count": 15,
   "id": "2fd2bac0",
   "metadata": {},
   "outputs": [
    {
     "data": {
      "text/html": [
       "<div>\n",
       "<style scoped>\n",
       "    .dataframe tbody tr th:only-of-type {\n",
       "        vertical-align: middle;\n",
       "    }\n",
       "\n",
       "    .dataframe tbody tr th {\n",
       "        vertical-align: top;\n",
       "    }\n",
       "\n",
       "    .dataframe thead th {\n",
       "        text-align: right;\n",
       "    }\n",
       "</style>\n",
       "<table border=\"1\" class=\"dataframe\">\n",
       "  <thead>\n",
       "    <tr style=\"text-align: right;\">\n",
       "      <th></th>\n",
       "      <th>pdf_path</th>\n",
       "      <th>pdf_name</th>\n",
       "      <th>pdf_content</th>\n",
       "      <th>object detection</th>\n",
       "      <th>semantic segmentation</th>\n",
       "      <th>image classification</th>\n",
       "      <th>computer vision</th>\n",
       "      <th>transformers</th>\n",
       "      <th>vision transformers</th>\n",
       "    </tr>\n",
       "  </thead>\n",
       "  <tbody>\n",
       "    <tr>\n",
       "      <th>0</th>\n",
       "      <td>./../../../../data/sample_resume/Abdallah Elra...</td>\n",
       "      <td>Abdallah Elraey</td>\n",
       "      <td>\\n\\npage_number: 0\\nAbdallah Mohamed Jumaa ML ...</td>\n",
       "      <td>False</td>\n",
       "      <td>False</td>\n",
       "      <td>True</td>\n",
       "      <td>True</td>\n",
       "      <td>True</td>\n",
       "      <td>False</td>\n",
       "    </tr>\n",
       "    <tr>\n",
       "      <th>1</th>\n",
       "      <td>./../../../../data/sample_resume/Hadeel Mabrou...</td>\n",
       "      <td>Hadeel Mabrouk</td>\n",
       "      <td>\\n\\npage_number: 0\\nHadeel Emad Mabrouk\\n\\n+20...</td>\n",
       "      <td>True</td>\n",
       "      <td>False</td>\n",
       "      <td>False</td>\n",
       "      <td>True</td>\n",
       "      <td>False</td>\n",
       "      <td>False</td>\n",
       "    </tr>\n",
       "    <tr>\n",
       "      <th>2</th>\n",
       "      <td>./../../../../data/sample_resume/Ziad Abdeltaw...</td>\n",
       "      <td>Ziad Abdeltawab</td>\n",
       "      <td>\\n\\npage_number: 0\\nZiad Abdeltawab\\n\\nziad.ta...</td>\n",
       "      <td>False</td>\n",
       "      <td>True</td>\n",
       "      <td>False</td>\n",
       "      <td>True</td>\n",
       "      <td>False</td>\n",
       "      <td>False</td>\n",
       "    </tr>\n",
       "    <tr>\n",
       "      <th>3</th>\n",
       "      <td>./../../../../data/sample_resume/Adham Tawfik.pdf</td>\n",
       "      <td>Adham Tawfik</td>\n",
       "      <td>\\n\\npage_number: 0\\nAdam Mohamed Tawfik\\n\\nAdd...</td>\n",
       "      <td>True</td>\n",
       "      <td>False</td>\n",
       "      <td>True</td>\n",
       "      <td>True</td>\n",
       "      <td>False</td>\n",
       "      <td>False</td>\n",
       "    </tr>\n",
       "    <tr>\n",
       "      <th>4</th>\n",
       "      <td>./../../../../data/sample_resume/Ahmed Mostafa...</td>\n",
       "      <td>Ahmed Mostafa Attia</td>\n",
       "      <td>\\n\\npage_number: 0\\nAhmed Mostafa Attia\\n\\nAI,...</td>\n",
       "      <td>True</td>\n",
       "      <td>False</td>\n",
       "      <td>True</td>\n",
       "      <td>True</td>\n",
       "      <td>False</td>\n",
       "      <td>False</td>\n",
       "    </tr>\n",
       "    <tr>\n",
       "      <th>5</th>\n",
       "      <td>./../../../../data/sample_resume/Ali Nabil.pdf</td>\n",
       "      <td>Ali Nabil</td>\n",
       "      <td>\\n\\npage_number: 0\\nAI Engineer Fulltime\\n\\n11...</td>\n",
       "      <td>True</td>\n",
       "      <td>False</td>\n",
       "      <td>False</td>\n",
       "      <td>True</td>\n",
       "      <td>False</td>\n",
       "      <td>False</td>\n",
       "    </tr>\n",
       "    <tr>\n",
       "      <th>6</th>\n",
       "      <td>./../../../../data/sample_resume/Nouran Ali.pdf</td>\n",
       "      <td>Nouran Ali</td>\n",
       "      <td>\\n\\npage_number: 0\\nNouran Ali\\n\\nSenior Compu...</td>\n",
       "      <td>True</td>\n",
       "      <td>False</td>\n",
       "      <td>True</td>\n",
       "      <td>True</td>\n",
       "      <td>False</td>\n",
       "      <td>False</td>\n",
       "    </tr>\n",
       "    <tr>\n",
       "      <th>7</th>\n",
       "      <td>./../../../../data/sample_resume/Mohamed Abdel...</td>\n",
       "      <td>Mohamed Abdelaziz</td>\n",
       "      <td>\\n\\npage_number: 0\\nMohamed Abdelaziz\\n\\nMilit...</td>\n",
       "      <td>True</td>\n",
       "      <td>True</td>\n",
       "      <td>False</td>\n",
       "      <td>True</td>\n",
       "      <td>True</td>\n",
       "      <td>False</td>\n",
       "    </tr>\n",
       "    <tr>\n",
       "      <th>8</th>\n",
       "      <td>./../../../../data/sample_resume/Abdalrahman K...</td>\n",
       "      <td>Abdalrahman Kamel</td>\n",
       "      <td>\\n\\npage_number: 0\\nEducation\\n\\n1. Master deg...</td>\n",
       "      <td>True</td>\n",
       "      <td>False</td>\n",
       "      <td>True</td>\n",
       "      <td>True</td>\n",
       "      <td>True</td>\n",
       "      <td>False</td>\n",
       "    </tr>\n",
       "    <tr>\n",
       "      <th>9</th>\n",
       "      <td>./../../../../data/sample_resume/Lamees Elbakr...</td>\n",
       "      <td>Lamees Elbakr</td>\n",
       "      <td>\\n\\npage_number: 0\\nResearch and Development T...</td>\n",
       "      <td>True</td>\n",
       "      <td>False</td>\n",
       "      <td>True</td>\n",
       "      <td>True</td>\n",
       "      <td>True</td>\n",
       "      <td>False</td>\n",
       "    </tr>\n",
       "  </tbody>\n",
       "</table>\n",
       "</div>"
      ],
      "text/plain": [
       "                                            pdf_path             pdf_name  \\\n",
       "0  ./../../../../data/sample_resume/Abdallah Elra...      Abdallah Elraey   \n",
       "1  ./../../../../data/sample_resume/Hadeel Mabrou...       Hadeel Mabrouk   \n",
       "2  ./../../../../data/sample_resume/Ziad Abdeltaw...      Ziad Abdeltawab   \n",
       "3  ./../../../../data/sample_resume/Adham Tawfik.pdf         Adham Tawfik   \n",
       "4  ./../../../../data/sample_resume/Ahmed Mostafa...  Ahmed Mostafa Attia   \n",
       "5     ./../../../../data/sample_resume/Ali Nabil.pdf            Ali Nabil   \n",
       "6    ./../../../../data/sample_resume/Nouran Ali.pdf           Nouran Ali   \n",
       "7  ./../../../../data/sample_resume/Mohamed Abdel...    Mohamed Abdelaziz   \n",
       "8  ./../../../../data/sample_resume/Abdalrahman K...    Abdalrahman Kamel   \n",
       "9  ./../../../../data/sample_resume/Lamees Elbakr...        Lamees Elbakr   \n",
       "\n",
       "                                         pdf_content  object detection  \\\n",
       "0  \\n\\npage_number: 0\\nAbdallah Mohamed Jumaa ML ...             False   \n",
       "1  \\n\\npage_number: 0\\nHadeel Emad Mabrouk\\n\\n+20...              True   \n",
       "2  \\n\\npage_number: 0\\nZiad Abdeltawab\\n\\nziad.ta...             False   \n",
       "3  \\n\\npage_number: 0\\nAdam Mohamed Tawfik\\n\\nAdd...              True   \n",
       "4  \\n\\npage_number: 0\\nAhmed Mostafa Attia\\n\\nAI,...              True   \n",
       "5  \\n\\npage_number: 0\\nAI Engineer Fulltime\\n\\n11...              True   \n",
       "6  \\n\\npage_number: 0\\nNouran Ali\\n\\nSenior Compu...              True   \n",
       "7  \\n\\npage_number: 0\\nMohamed Abdelaziz\\n\\nMilit...              True   \n",
       "8  \\n\\npage_number: 0\\nEducation\\n\\n1. Master deg...              True   \n",
       "9  \\n\\npage_number: 0\\nResearch and Development T...              True   \n",
       "\n",
       "   semantic segmentation  image classification  computer vision  transformers  \\\n",
       "0                  False                  True             True          True   \n",
       "1                  False                 False             True         False   \n",
       "2                   True                 False             True         False   \n",
       "3                  False                  True             True         False   \n",
       "4                  False                  True             True         False   \n",
       "5                  False                 False             True         False   \n",
       "6                  False                  True             True         False   \n",
       "7                   True                 False             True          True   \n",
       "8                  False                  True             True          True   \n",
       "9                  False                  True             True          True   \n",
       "\n",
       "   vision transformers  \n",
       "0                False  \n",
       "1                False  \n",
       "2                False  \n",
       "3                False  \n",
       "4                False  \n",
       "5                False  \n",
       "6                False  \n",
       "7                False  \n",
       "8                False  \n",
       "9                False  "
      ]
     },
     "metadata": {},
     "output_type": "display_data"
    }
   ],
   "source": [
    "display(applicants_resume_analysis_df.head(10))"
   ]
  },
  {
   "cell_type": "code",
   "execution_count": 16,
   "id": "37e52d8a",
   "metadata": {},
   "outputs": [],
   "source": [
    "applicants_resume_analysis_df.to_csv('./output/applicants_resume_analysis_df.csv')"
   ]
  },
  {
   "cell_type": "markdown",
   "id": "f391592f",
   "metadata": {},
   "source": [
    "# fine-grained skill grader"
   ]
  },
  {
   "cell_type": "code",
   "execution_count": 12,
   "id": "cfeeac96",
   "metadata": {},
   "outputs": [],
   "source": [
    "from chains.fine_grained_skill_grader import fine_grained_skill_grader as fine_grained_skill_grader_chain"
   ]
  },
  {
   "cell_type": "code",
   "execution_count": 23,
   "id": "88231223",
   "metadata": {},
   "outputs": [
    {
     "name": "stdout",
     "output_type": "stream",
     "text": [
      " June 2025\n"
     ]
    }
   ],
   "source": [
    "def get_present_date():\n",
    "    now = datetime.now()\n",
    "    month_name = now.strftime(\"%B\")\n",
    "    current_year = now.year\n",
    "    return f\" {month_name} {current_year}\"\n",
    "\n",
    "# Example usage\n",
    "print(get_present_date())"
   ]
  },
  {
   "cell_type": "code",
   "execution_count": 24,
   "id": "8f196789",
   "metadata": {},
   "outputs": [],
   "source": [
    "def fine_grained_skill_grader(desired_skill, resume_content):\n",
    "    \"\"\"get fine_grained_skill_grade for one desired_skill\n",
    "    \"\"\"\n",
    "    current_date = get_present_date()\n",
    "\n",
    "    fine_grained_skill_grade = fine_grained_skill_grader_chain.invoke(\n",
    "        {\n",
    "            'desired_skill': desired_skill,\n",
    "            'resume_content': resume_content,\n",
    "            'current_date':current_date\n",
    "        }\n",
    "    )\n",
    "\n",
    "    return fine_grained_skill_grade.model_dump()"
   ]
  },
  {
   "cell_type": "code",
   "execution_count": 25,
   "id": "574021a8",
   "metadata": {},
   "outputs": [],
   "source": [
    "def process_desired_skills_summary_dict(desired_skills_summary_dict_for_one_candidate):\n",
    "    \"\"\"\n",
    "    Process the skills dictionary to add key_experiences_count and months_of_experience_total.\n",
    "    \n",
    "    Args:\n",
    "        desired_skills_summary_dict_for_one_candidate (dict): Dictionary containing skill information\n",
    "        \n",
    "    Returns:\n",
    "        dict: Updated dictionary with additional calculated fields\n",
    "    \"\"\"\n",
    "    # Create a deep copy to avoid modifying the original dictionary\n",
    "    processed_dict = copy.deepcopy(desired_skills_summary_dict_for_one_candidate)\n",
    "    \n",
    "    # Iterate through each skill in the dictionary\n",
    "    for skill_name, skill_data in processed_dict.items():\n",
    "        # Add key_experiences_count\n",
    "        if \"key_experiences\" in skill_data:\n",
    "            skill_data[\"key_experiences_count\"] = len(skill_data[\"key_experiences\"])\n",
    "        else:\n",
    "            skill_data[\"key_experiences_count\"] = 0\n",
    "        \n",
    "        # Process months_of_experience and calculate total\n",
    "        if \"months_of_experience\" in skill_data:\n",
    "            months_list = skill_data[\"months_of_experience\"]\n",
    "            total_months = 0\n",
    "            \n",
    "            for month_value in months_list:\n",
    "                # Since months_of_experience contains int values, sum them directly\n",
    "                total_months += month_value\n",
    "            \n",
    "            skill_data[\"months_of_experience_total\"] = total_months\n",
    "        else:\n",
    "            skill_data[\"months_of_experience_total\"] = 0\n",
    "    \n",
    "    return processed_dict"
   ]
  },
  {
   "cell_type": "code",
   "execution_count": null,
   "id": "5b195640",
   "metadata": {},
   "outputs": [],
   "source": []
  },
  {
   "cell_type": "code",
   "execution_count": 26,
   "id": "ff1df6e3",
   "metadata": {},
   "outputs": [
    {
     "data": {
      "text/html": [
       "<div>\n",
       "<style scoped>\n",
       "    .dataframe tbody tr th:only-of-type {\n",
       "        vertical-align: middle;\n",
       "    }\n",
       "\n",
       "    .dataframe tbody tr th {\n",
       "        vertical-align: top;\n",
       "    }\n",
       "\n",
       "    .dataframe thead th {\n",
       "        text-align: right;\n",
       "    }\n",
       "</style>\n",
       "<table border=\"1\" class=\"dataframe\">\n",
       "  <thead>\n",
       "    <tr style=\"text-align: right;\">\n",
       "      <th></th>\n",
       "      <th>pdf_path</th>\n",
       "      <th>pdf_name</th>\n",
       "      <th>pdf_content</th>\n",
       "      <th>object detection</th>\n",
       "      <th>semantic segmentation</th>\n",
       "      <th>image classification</th>\n",
       "      <th>computer vision</th>\n",
       "      <th>transformers</th>\n",
       "      <th>vision transformers</th>\n",
       "      <th>summary</th>\n",
       "    </tr>\n",
       "  </thead>\n",
       "  <tbody>\n",
       "    <tr>\n",
       "      <th>0</th>\n",
       "      <td>./../../../../data/sample_resume/Abdallah Elra...</td>\n",
       "      <td>Abdallah Elraey</td>\n",
       "      <td>\\n\\npage_number: 0\\nAbdallah Mohamed Jumaa ML ...</td>\n",
       "      <td>False</td>\n",
       "      <td>False</td>\n",
       "      <td>True</td>\n",
       "      <td>True</td>\n",
       "      <td>True</td>\n",
       "      <td>False</td>\n",
       "      <td>Abdallah Mohamed Jumaa has demonstrated advanc...</td>\n",
       "    </tr>\n",
       "    <tr>\n",
       "      <th>1</th>\n",
       "      <td>./../../../../data/sample_resume/Hadeel Mabrou...</td>\n",
       "      <td>Hadeel Mabrouk</td>\n",
       "      <td>\\n\\npage_number: 0\\nHadeel Emad Mabrouk\\n\\n+20...</td>\n",
       "      <td>True</td>\n",
       "      <td>False</td>\n",
       "      <td>False</td>\n",
       "      <td>True</td>\n",
       "      <td>False</td>\n",
       "      <td>False</td>\n",
       "      <td>Hadeel Emad Mabrouk has demonstrated a solid f...</td>\n",
       "    </tr>\n",
       "  </tbody>\n",
       "</table>\n",
       "</div>"
      ],
      "text/plain": [
       "                                            pdf_path         pdf_name  \\\n",
       "0  ./../../../../data/sample_resume/Abdallah Elra...  Abdallah Elraey   \n",
       "1  ./../../../../data/sample_resume/Hadeel Mabrou...   Hadeel Mabrouk   \n",
       "\n",
       "                                         pdf_content  object detection  \\\n",
       "0  \\n\\npage_number: 0\\nAbdallah Mohamed Jumaa ML ...             False   \n",
       "1  \\n\\npage_number: 0\\nHadeel Emad Mabrouk\\n\\n+20...              True   \n",
       "\n",
       "   semantic segmentation  image classification  computer vision  transformers  \\\n",
       "0                  False                  True             True          True   \n",
       "1                  False                 False             True         False   \n",
       "\n",
       "   vision transformers                                            summary  \n",
       "0                False  Abdallah Mohamed Jumaa has demonstrated advanc...  \n",
       "1                False  Hadeel Emad Mabrouk has demonstrated a solid f...  "
      ]
     },
     "metadata": {},
     "output_type": "display_data"
    }
   ],
   "source": [
    "# temp\n",
    "applicants_resume_analysis_df = pd.read_csv('./output/applicants_resume_analysis_df.csv')\n",
    "display(applicants_resume_analysis_df.head(2))"
   ]
  },
  {
   "cell_type": "code",
   "execution_count": 37,
   "id": "025e5ea7",
   "metadata": {},
   "outputs": [
    {
     "name": "stderr",
     "output_type": "stream",
     "text": [
      "100%|██████████| 37/37 [12:44<00:00, 20.67s/it]\n"
     ]
    }
   ],
   "source": [
    "fine_grained_skill_grade_dict = dict()\n",
    "applicants_resume_analysis_df['summary'] = ''\n",
    "\n",
    "for idx in tqdm(range(applicants_resume_analysis_df.shape[0])):\n",
    "\n",
    "\n",
    "    fine_grained_skill_grade_dict_for_one_candidate = dict()\n",
    "    pdf_content = applicants_resume_analysis_df.at[idx, 'pdf_content']\n",
    "    candidate_name = applicants_resume_analysis_df.at[idx, 'pdf_name']\n",
    "    # print(f'candidate_name: {candidate_name}')\n",
    "\n",
    "    for desired_skill in desired_skills_list:\n",
    "        if applicants_resume_analysis_df.at[idx, desired_skill]:\n",
    "            fine_grained_skill_grade_dict_for_one_candidate[desired_skill] = fine_grained_skill_grader(desired_skill, pdf_content)\n",
    "\n",
    "    # process dictionary to add key_experiences_count and years_of_experience_total\n",
    "    fine_grained_skill_grade_dict_for_one_candidate = process_desired_skills_summary_dict(fine_grained_skill_grade_dict_for_one_candidate)\n",
    "\n",
    "    # join summaries for different skills\n",
    "    candidate_summary = ' '.join( [details['summary'] for details in fine_grained_skill_grade_dict_for_one_candidate.values()])\n",
    "    fine_grained_skill_grade_dict_for_one_candidate['candidate_summary'] = candidate_summary\n",
    "\n",
    "    fine_grained_skill_grade_dict[candidate_name] = fine_grained_skill_grade_dict_for_one_candidate\n",
    "\n",
    "    applicants_resume_analysis_df.at[idx, 'summary'] = candidate_summary\n"
   ]
  },
  {
   "cell_type": "code",
   "execution_count": 39,
   "id": "ba855503",
   "metadata": {},
   "outputs": [],
   "source": [
    "applicants_resume_analysis_df.to_csv('./output/applicants_resume_analysis_df.csv', index=False)\n",
    "\n",
    "\n",
    "with open('./output/fine_grained_skill_grade_dict.json', 'w') as fh:\n",
    "    json.dump(fine_grained_skill_grade_dict, fh, indent=4)"
   ]
  },
  {
   "cell_type": "markdown",
   "id": "55ef5bce",
   "metadata": {},
   "source": [
    "# write a summary about the skill"
   ]
  },
  {
   "cell_type": "code",
   "execution_count": 17,
   "id": "3de494b8",
   "metadata": {},
   "outputs": [],
   "source": [
    "from chains.skill_summary_writer import skill_summary_writer as skill_summary_writer_chain"
   ]
  },
  {
   "cell_type": "code",
   "execution_count": 18,
   "id": "5b8770cd",
   "metadata": {},
   "outputs": [],
   "source": [
    "def skill_summary_writer(desired_skill, resume_content):\n",
    "    \"\"\"get skill summary for one desired_skill\n",
    "    \"\"\"\n",
    "    skill_summary = skill_summary_writer_chain.invoke(\n",
    "        {\n",
    "            'desired_skill': desired_skill,\n",
    "            'resume_content': resume_content\n",
    "        }\n",
    "    )\n",
    "\n",
    "    return skill_summary.model_dump()\n"
   ]
  },
  {
   "cell_type": "code",
   "execution_count": 19,
   "id": "e4c1a7d7",
   "metadata": {},
   "outputs": [],
   "source": [
    "desired_skills_summary_dict = dict()\n",
    "applicants_resume_analysis_df['summary'] = ''\n",
    "\n",
    "for idx in range(applicants_resume_analysis_df.shape[0]):\n",
    "\n",
    "    desired_skills_summary_dict_for_one_candidate = dict()\n",
    "\n",
    "    pdf_content = applicants_resume_analysis_df.at[idx, 'pdf_content']\n",
    "    candidate_name = applicants_resume_analysis_df.at[idx, 'pdf_name']\n",
    "\n",
    "    for desired_skill in desired_skills_list:\n",
    "        if applicants_resume_analysis_df.at[idx, desired_skill]:\n",
    "            desired_skills_summary_dict_for_one_candidate[desired_skill] = skill_summary_writer(desired_skill, pdf_content)\n",
    "\n",
    "    desired_skills_summary_dict[candidate_name] = desired_skills_summary_dict_for_one_candidate\n",
    "\n",
    "    candidate_summary = ' '.join( [details['summary'] for details in desired_skills_summary_dict_for_one_candidate.values()])\n",
    "    applicants_resume_analysis_df.at[idx, 'summary'] = candidate_summary\n"
   ]
  },
  {
   "cell_type": "code",
   "execution_count": null,
   "id": "69816ed6",
   "metadata": {},
   "outputs": [],
   "source": [
    "applicants_resume_analysis_df.to_csv('./output/applicants_resume_analysis_df.csv', index=False)\n",
    "\n",
    "\n",
    "with open('./output/desired_skills_summary_dict.json', 'w') as fh:\n",
    "    json.dump(desired_skills_summary_dict, fh, indent=4)\n"
   ]
  },
  {
   "cell_type": "code",
   "execution_count": null,
   "metadata": {},
   "outputs": [],
   "source": []
  },
  {
   "cell_type": "code",
   "execution_count": 14,
   "id": "9e751396",
   "metadata": {},
   "outputs": [
    {
     "data": {
      "text/plain": [
       "{'image classification': {'skill_name': 'image classification',\n",
       "  'proficiency_level': 'Advanced',\n",
       "  'summary': 'Abdallah Mohamed Jumaa has demonstrated advanced proficiency in image classification through the development and fine-tuning of a MobileNet CNN for recognizing sign language digits. This project involved leveraging transfer learning to adapt a pre-trained model for specific image classification tasks, showcasing his deep learning expertise. His experience in model optimization for mobile applications further highlights his technical capabilities in this domain.',\n",
       "  'key_experiences': ['Developed and fine-tuned a MobileNet CNN to recognize sign language digits, demonstrating expertise in image classification and deep learning.',\n",
       "   'Leveraged transfer learning to adapt pre-trained MobileNet architecture for specific patterns in sign language digits, showcasing advanced model adaptation skills.'],\n",
       "  'years_of_experience': 'NOT GIVEN',\n",
       "  'confidence_score': 0.85},\n",
       " 'computer vision': {'skill_name': 'computer vision',\n",
       "  'proficiency_level': 'Intermediate',\n",
       "  'summary': 'Abdallah Mohamed Jumaa has demonstrated a solid foundation in computer vision through the development of a sign language digit recognizer using a fine-tuned MobileNet CNN. This project involved leveraging transfer learning to adapt a pre-trained model for image classification tasks, showcasing his ability to apply deep learning techniques to real-world problems. While his experience in computer vision is not as extensive as in NLP, his work on this project indicates a practical understanding of model optimization for mobile applications.',\n",
       "  'key_experiences': ['Developed and fine-tuned a MobileNet CNN for sign language digit recognition, demonstrating expertise in image classification and model optimization.',\n",
       "   'Leveraged transfer learning to adapt pre-trained models for specific computer vision tasks, indicating a practical understanding of deep learning techniques.'],\n",
       "  'years_of_experience': 'NOT GIVEN',\n",
       "  'confidence_score': 0.7},\n",
       " 'transformers': {'skill_name': 'transformers',\n",
       "  'proficiency_level': 'Advanced',\n",
       "  'summary': 'Abdallah Mohamed Jumaa demonstrates advanced proficiency in using transformer-based architectures, particularly in NLP projects. He has applied transformers in real-world applications, such as sentiment analysis and text summarization, utilizing frameworks like Hugging Face. His experience includes developing modular pipelines and integrating transformers into end-to-end ML solutions, showcasing a strong understanding of both the technical and practical aspects of transformers.',\n",
       "  'key_experiences': ['Applied deep learning techniques and transformer-based architectures to solve real-world NLP challenges during his role as a Machine Learning Engineer at DEPI.',\n",
       "   'Developed a sentiment analysis pipeline that allows integration of new models and transformers, highlighting his ability to work with modular and extensible architectures.',\n",
       "   'Created a summarization app leveraging Hugging Face Transformers, demonstrating his capability to implement state-of-the-art NLP models in production environments.'],\n",
       "  'years_of_experience': 'NOT GIVEN',\n",
       "  'confidence_score': 0.85}}"
      ]
     },
     "execution_count": 14,
     "metadata": {},
     "output_type": "execute_result"
    }
   ],
   "source": [
    "desired_skills_summary_dict"
   ]
  },
  {
   "cell_type": "markdown",
   "id": "767e65b8",
   "metadata": {},
   "source": [
    "## create candidate summary based on summaries of available skills"
   ]
  },
  {
   "cell_type": "code",
   "execution_count": 19,
   "id": "e08269d9",
   "metadata": {},
   "outputs": [
    {
     "name": "stdout",
     "output_type": "stream",
     "text": [
      "Abdallah Mohamed Jumaa has demonstrated advanced proficiency in image classification through the development and fine-tuning of a MobileNet CNN for recognizing sign language digits. This project involved leveraging transfer learning to adapt a pre-trained model for specific image classification tasks, showcasing his deep learning expertise. His experience in model optimization for mobile applications further highlights his technical capabilities in this domain. Abdallah Mohamed Jumaa has demonstrated a solid foundation in computer vision through the development of a sign language digit recognizer using a fine-tuned MobileNet CNN. This project involved leveraging transfer learning to adapt a pre-trained model for image classification tasks, showcasing his ability to apply deep learning techniques to real-world problems. While his experience in computer vision is not as extensive as in NLP, his work on this project indicates a practical understanding of model optimization for mobile applications. Abdallah Mohamed Jumaa demonstrates advanced proficiency in using transformer-based architectures, particularly in NLP projects. He has applied transformers in real-world applications, such as sentiment analysis and text summarization, utilizing frameworks like Hugging Face. His experience includes developing modular pipelines and integrating transformers into end-to-end ML solutions, showcasing a strong understanding of both the technical and practical aspects of transformers.\n"
     ]
    }
   ],
   "source": [
    "candidate_summary = ' '.join( [details['summary'] for details in desired_skills_summary_dict.values()])\n",
    "print(candidate_summary)"
   ]
  },
  {
   "cell_type": "code",
   "execution_count": null,
   "id": "b2045a20",
   "metadata": {},
   "outputs": [
    {
     "name": "stdout",
     "output_type": "stream",
     "text": [
      "README.md\t    graph.ipynb\t\t   nodes\n",
      "chains\t\t    graph.py\t\t   output\n",
      "data\t\t    lang_requirements.txt  strong_applicant_characteristics.txt\n",
      "desired_skills.txt  models\n"
     ]
    }
   ],
   "source": []
  }
 ],
 "metadata": {
  "kernelspec": {
   "display_name": "farzanehlang",
   "language": "python",
   "name": "python3"
  },
  "language_info": {
   "codemirror_mode": {
    "name": "ipython",
    "version": 3
   },
   "file_extension": ".py",
   "mimetype": "text/x-python",
   "name": "python",
   "nbconvert_exporter": "python",
   "pygments_lexer": "ipython3",
   "version": "3.10.18"
  }
 },
 "nbformat": 4,
 "nbformat_minor": 5
}
