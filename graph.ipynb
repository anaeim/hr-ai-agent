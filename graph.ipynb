{
 "cells": [
  {
   "cell_type": "code",
   "execution_count": 1,
   "id": "135ebbc7",
   "metadata": {},
   "outputs": [],
   "source": [
    "import json\n",
    "import copy\n",
    "import pandas as pd\n",
    "import importlib\n",
    "from datetime import datetime\n",
    "from tqdm import tqdm\n",
    "\n",
    "from dotenv import load_dotenv\n",
    "\n",
    "from utils import read_csv_file, read_desired_skills, write_csv_file, write_json_file"
   ]
  },
  {
   "cell_type": "code",
   "execution_count": 2,
   "id": "08664c0e",
   "metadata": {},
   "outputs": [
    {
     "data": {
      "text/plain": [
       "True"
      ]
     },
     "execution_count": 2,
     "metadata": {},
     "output_type": "execute_result"
    }
   ],
   "source": [
    "load_dotenv()"
   ]
  },
  {
   "cell_type": "code",
   "execution_count": 3,
   "id": "e809499d",
   "metadata": {},
   "outputs": [],
   "source": [
    "# variables\n",
    "applicants_resume_analysis_df_path = './output/applicants_resume_analysis_df.csv' # path to a dataframe storing the results of resume analysis for applications\n",
    "pdf_files_contents_path = './data/pdf_files_contents.csv' # path to a .csv file containing the content of PDF resume documents\n",
    "desired_skills_path = './desired_skills.txt' # path to desired skills defined by HR for this specific job posting\n",
    "fine_grained_skill_grade_dict_path = './output/fine_grained_skill_grade_dict.json' # path to .json file  containing fine_grained_skill_grade_dict\n",
    "desired_skills_summary_dict_path = './output/desired_skills_summary_dict.json' # path tp .json file containing candidate summaries for the list of disired skills"
   ]
  },
  {
   "cell_type": "markdown",
   "id": "5a55b391",
   "metadata": {},
   "source": [
    "# 1. 📄 PDF information Extraction\n",
    "- Uses Qwen 2.5 VLM to extract information from the resume documents and preserve the layout information.\n",
    "- find the implementation in `./models/pdf_ocr/ocr_qwen25.ipynb`"
   ]
  },
  {
   "cell_type": "code",
   "execution_count": 4,
   "id": "c5fba27f",
   "metadata": {},
   "outputs": [
    {
     "name": "stdout",
     "output_type": "stream",
     "text": [
      "(37, 3)\n"
     ]
    }
   ],
   "source": [
    "# read pdf content\n",
    "pdf_files_contents = read_csv_file(pdf_files_contents_path)\n",
    "print(pdf_files_contents.shape)\n",
    "# display(pdf_files_contents.head(2))"
   ]
  },
  {
   "cell_type": "code",
   "execution_count": 5,
   "id": "02acd3f2",
   "metadata": {},
   "outputs": [
    {
     "data": {
      "text/plain": [
       "['object detection',\n",
       " 'semantic segmentation',\n",
       " 'image classification',\n",
       " 'computer vision',\n",
       " 'transformers',\n",
       " 'vision transformers']"
      ]
     },
     "execution_count": 5,
     "metadata": {},
     "output_type": "execute_result"
    }
   ],
   "source": [
    "desired_skills_list = read_desired_skills(desired_skills_path)\n",
    "\n",
    "desired_skills_list = desired_skills_list.split('\\n')\n",
    "desired_skills_list"
   ]
  },
  {
   "cell_type": "code",
   "execution_count": null,
   "id": "95fb0e8d",
   "metadata": {},
   "outputs": [],
   "source": [
    "def create_applicants_resume_analysis_df_place_holder(pdf_files_contents, desired_skills_list):\n",
    "    \"\"\"\n",
    "        Create a placeholder DataFrame for storing applicants' resume analysis results.\n",
    "    \n",
    "        This function initializes an empty DataFrame that will later hold parsed resume data,\n",
    "        skill grading outputs, summaries, and reranking results. It acts as the primary\n",
    "        structure for tracking candidate evaluations throughout the HR AgentAI workflow.\n",
    "    \n",
    "        Returns\n",
    "        -------\n",
    "        pandas.DataFrame\n",
    "            An empty DataFrame with predefined columns for storing applicant analysis results.\n",
    "    \n",
    "        Notes\n",
    "        -----\n",
    "        This placeholder ensures that subsequent resume parsing, skill grading, and\n",
    "        reranking results can be consistently appended without schema mismatches.\n",
    "        \"\"\"\n",
    "    # create place holder for applicants_resume_analysis_df based on pdf_files_contents and desired_skills_list for applicants\n",
    "    applicants_resume_analysis_df = pdf_files_contents.copy(deep=True)\n",
    "    for skill in desired_skills_list: # # add desired skill list as columns to applicants_resume_analysis_df\n",
    "        applicants_resume_analysis_df[skill] = False\n",
    "    return applicants_resume_analysis_df\n",
    "\n",
    "applicants_resume_analysis_df = create_applicants_resume_analysis_df_place_holder(pdf_files_contents, desired_skills_list)\n",
    "\n",
    "# display(applicants_resume_analysis_df.head(2))"
   ]
  },
  {
   "cell_type": "markdown",
   "id": "61b93301",
   "metadata": {},
   "source": [
    "# 2. 🧪 Skill Grader"
   ]
  },
  {
   "cell_type": "code",
   "execution_count": 7,
   "id": "583666d4",
   "metadata": {},
   "outputs": [],
   "source": [
    "# import the defined chain for Skill Grader\n",
    "from chains.skill_grader import skill_grader as skill_grader_chain"
   ]
  },
  {
   "cell_type": "code",
   "execution_count": null,
   "id": "3764509d",
   "metadata": {},
   "outputs": [],
   "source": [
    "def skill_grader(desired_skill, resume_content):\n",
    "    \"\"\"\n",
    "        Evaluate the presence of a specific skill in a candidate's resume.\n",
    "    \n",
    "        Uses an LLM-based binary classification approach to determine if the target\n",
    "        skill is clearly demonstrated in the candidate's work experience, projects, or\n",
    "        qualifications.\n",
    "    \n",
    "        Parameters\n",
    "        ----------\n",
    "        resume_text : str\n",
    "            Extracted textual content from the candidate's resume.\n",
    "        target_skill : str\n",
    "            The skill to evaluate (e.g., \"Python\", \"Project Management\").\n",
    "    \n",
    "        Returns\n",
    "        -------\n",
    "        bool\n",
    "            True if the skill is demonstrated with supporting evidence, False otherwise.\n",
    "    \n",
    "        Notes\n",
    "        -----\n",
    "        - Forms part of the **1st Screening Step – Skill-Based Filtering** in the HR AgentAI pipeline.\n",
    "        - This step reduces candidate pool size by ensuring only applicants meeting\n",
    "          the minimum skill requirements move forward.\n",
    "        \"\"\"\n",
    "    skill_score = skill_grader_chain.invoke(\n",
    "        {\n",
    "            \"desired_skill\": desired_skill,  \n",
    "            \"resume_content\": resume_content\n",
    "        }\n",
    "    )\n",
    "\n",
    "    return skill_score"
   ]
  },
  {
   "cell_type": "code",
   "execution_count": null,
   "id": "3bd76cad",
   "metadata": {},
   "outputs": [],
   "source": [
    "def get_desired_skill_score_dict_for_one_resume(resume_content):\n",
    "    \"\"\"\n",
    "        Generate a binary skill presence dictionary for a single resume.\n",
    "    \n",
    "        For each desired skill, the function uses `skill_grader` to determine whether\n",
    "        the skill is present in the given resume.\n",
    "    \n",
    "        Parameters\n",
    "        ----------\n",
    "        resume_text : str\n",
    "            Extracted textual content from a candidate's resume.\n",
    "        desired_skills : list of str\n",
    "            Skills required for the job position.\n",
    "    \n",
    "        Returns\n",
    "        -------\n",
    "        dict\n",
    "            Mapping of skill names to boolean values indicating presence.\n",
    "    \n",
    "        Notes\n",
    "        -----\n",
    "        This function is used to build the binary skill table for a single candidate,\n",
    "        which feeds into the **1st Screening Step**.\n",
    "        \"\"\"\n",
    "    desired_skill_score_dict = dict()\n",
    "\n",
    "    for desired_skill in desired_skills_list:\n",
    "        skill_score = skill_grader(desired_skill, resume_content)\n",
    "        desired_skill_score_dict[desired_skill] = skill_score.binary_score\n",
    "    # print(f\"Skill: {desired_skill}\")\n",
    "    # print(f\"Present: {skill_score.binary_score}\")\n",
    "    # print(skill_score)\n",
    "\n",
    "    return desired_skill_score_dict"
   ]
  },
  {
   "cell_type": "code",
   "execution_count": 10,
   "id": "b41cea6d",
   "metadata": {},
   "outputs": [],
   "source": [
    "# desired_skill_score_dict"
   ]
  },
  {
   "cell_type": "code",
   "execution_count": 11,
   "id": "9e356994",
   "metadata": {},
   "outputs": [],
   "source": [
    "# limit the analysis to first 10 applicants\n",
    "applicants_resume_analysis_df = applicants_resume_analysis_df[:10]"
   ]
  },
  {
   "cell_type": "code",
   "execution_count": 12,
   "id": "4a798607",
   "metadata": {},
   "outputs": [],
   "source": [
    "# display(applicants_resume_analysis_df)"
   ]
  },
  {
   "cell_type": "code",
   "execution_count": null,
   "id": "7d8b2849",
   "metadata": {},
   "outputs": [],
   "source": [
    "def get_desired_skill_score_dict_for_all_resumes(applicants_resume_analysis_df):\n",
    "    \"\"\"\n",
    "        Generate binary skill presence dictionaries for all resumes.\n",
    "    \n",
    "        Iterates through multiple resumes and applies the skill grading process\n",
    "        for each desired skill.\n",
    "    \n",
    "        Parameters\n",
    "        ----------\n",
    "        resumes : dict\n",
    "            Mapping of resume IDs to their extracted text content.\n",
    "        desired_skills : list of str\n",
    "            Skills required for the job position.\n",
    "    \n",
    "        Returns\n",
    "        -------\n",
    "        dict\n",
    "            Mapping of resume IDs to skill presence dictionaries.\n",
    "    \n",
    "        Notes\n",
    "        -----\n",
    "        Produces the binary skill presence matrix used for initial candidate filtering.\n",
    "        \"\"\"\n",
    "    for idx in range(applicants_resume_analysis_df.shape[0]):\n",
    "        pdf_content = applicants_resume_analysis_df.at[idx, 'pdf_content']\n",
    "        desired_skill_score_dict = get_desired_skill_score_dict_for_one_resume(pdf_content)\n",
    "        for desired_skill in desired_skills_list:\n",
    "            applicants_resume_analysis_df.at[idx, desired_skill] = desired_skill_score_dict[desired_skill]\n",
    "    \n",
    "    return applicants_resume_analysis_df\n",
    "\n",
    "applicants_resume_analysis_df = get_desired_skill_score_dict_for_all_resumes(applicants_resume_analysis_df)"
   ]
  },
  {
   "cell_type": "code",
   "execution_count": 14,
   "id": "2fd2bac0",
   "metadata": {},
   "outputs": [],
   "source": [
    "# display(applicants_resume_analysis_df.head(10))"
   ]
  },
  {
   "cell_type": "code",
   "execution_count": null,
   "id": "37e52d8a",
   "metadata": {},
   "outputs": [],
   "source": [
    "# store the results\n",
    "write_csv_file(applicants_resume_analysis_df, applicants_resume_analysis_df_path)"
   ]
  },
  {
   "cell_type": "markdown",
   "id": "f391592f",
   "metadata": {},
   "source": [
    "# 4. 🧪 Fine-grained Skill Grader"
   ]
  },
  {
   "cell_type": "code",
   "execution_count": 16,
   "id": "cfeeac96",
   "metadata": {},
   "outputs": [],
   "source": [
    "# import defined chain for Fine-grained Skill Grader\n",
    "from chains.fine_grained_skill_grader import fine_grained_skill_grader as fine_grained_skill_grader_chain"
   ]
  },
  {
   "cell_type": "code",
   "execution_count": 29,
   "id": "88231223",
   "metadata": {},
   "outputs": [],
   "source": [
    "def get_present_date():\n",
    "    \"\"\"\n",
    "        Get the current date in a standardized format.\n",
    "    \n",
    "        Returns\n",
    "        -------\n",
    "        str\n",
    "            Current date in YYYY-MM-DD format.\n",
    "    \n",
    "        Notes\n",
    "        -----\n",
    "        Useful for timestamping analysis outputs in the HR AgentAI pipeline.\n",
    "        \"\"\"\n",
    "    now = datetime.now()\n",
    "    month_name = now.strftime(\"%B\")\n",
    "    current_year = now.year\n",
    "    return f\" {month_name} {current_year}\"\n",
    "\n",
    "# Example usage\n",
    "# print(get_present_date())"
   ]
  },
  {
   "cell_type": "code",
   "execution_count": null,
   "id": "8f196789",
   "metadata": {},
   "outputs": [],
   "source": [
    "def fine_grained_skill_grader(desired_skill, resume_content):\n",
    "    \"\"\"\n",
    "        Assess a candidate's proficiency in a specific skill with detailed evaluation.\n",
    "\n",
    "        Goes beyond binary checks to capture proficiency level, key experiences,\n",
    "        and estimated duration of use, ensuring skills are backed by real-world evidence.\n",
    "\n",
    "        Parameters\n",
    "        ----------\n",
    "        resume_text : str\n",
    "            Extracted text from the candidate's resume.\n",
    "        target_skill : str\n",
    "            Skill to evaluate.\n",
    "\n",
    "        Returns\n",
    "        -------\n",
    "        dict\n",
    "            Structured skill assessment including proficiency, experiences, duration,\n",
    "            and confidence score.\n",
    "\n",
    "        Notes\n",
    "        -----\n",
    "        Part of the Fine-grained Skill Grader stage, supporting advanced filtering.\n",
    "        \"\"\"\n",
    "    current_date = get_present_date()\n",
    "\n",
    "    fine_grained_skill_grade = fine_grained_skill_grader_chain.invoke(\n",
    "        {\n",
    "            'desired_skill': desired_skill,\n",
    "            'resume_content': resume_content,\n",
    "            'current_date':current_date\n",
    "        }\n",
    "    )\n",
    "\n",
    "    return fine_grained_skill_grade.model_dump()"
   ]
  },
  {
   "cell_type": "code",
   "execution_count": null,
   "id": "574021a8",
   "metadata": {},
   "outputs": [],
   "source": [
    "def process_desired_skills_summary_dict(desired_skills_summary_dict_for_one_candidate):\n",
    "    \"\"\"\n",
    "        Format fine-grained skill grading results into structured summaries.\n",
    "\n",
    "        Converts detailed skill evaluations into a clean, standardized format\n",
    "        for review or downstream processing.\n",
    "\n",
    "        Parameters\n",
    "        ----------\n",
    "        skill_results : dict\n",
    "            Mapping of skills to their detailed grading results.\n",
    "\n",
    "        Returns\n",
    "        -------\n",
    "        dict\n",
    "            Processed skill summaries in a standardized structure.\n",
    "\n",
    "        Notes\n",
    "        -----\n",
    "        Prepares skill data for filtering, ranking, and presentation.\n",
    "        \"\"\"\n",
    "    # Create a deep copy to avoid modifying the original dictionary\n",
    "    processed_dict = copy.deepcopy(desired_skills_summary_dict_for_one_candidate)\n",
    "    \n",
    "    # Iterate through each skill in the dictionary\n",
    "    for skill_name, skill_data in processed_dict.items():\n",
    "        # Add key_experiences_count\n",
    "        if \"key_experiences\" in skill_data:\n",
    "            skill_data[\"key_experiences_count\"] = len(skill_data[\"key_experiences\"])\n",
    "        else:\n",
    "            skill_data[\"key_experiences_count\"] = 0\n",
    "        \n",
    "        # Process months_of_experience and calculate total\n",
    "        if \"months_of_experience\" in skill_data:\n",
    "            months_list = skill_data[\"months_of_experience\"]\n",
    "            total_months = 0\n",
    "            \n",
    "            for month_value in months_list:\n",
    "                # Since months_of_experience contains int values, sum them directly\n",
    "                total_months += month_value\n",
    "            \n",
    "            skill_data[\"months_of_experience_total\"] = total_months\n",
    "        else:\n",
    "            skill_data[\"months_of_experience_total\"] = 0\n",
    "    \n",
    "    return processed_dict"
   ]
  },
  {
   "cell_type": "code",
   "execution_count": 20,
   "id": "ff1df6e3",
   "metadata": {},
   "outputs": [],
   "source": [
    "# temp\n",
    "applicants_resume_analysis_df = read_csv_file(applicants_resume_analysis_df_path)\n",
    "# display(applicants_resume_analysis_df.head(2))"
   ]
  },
  {
   "cell_type": "code",
   "execution_count": null,
   "id": "025e5ea7",
   "metadata": {},
   "outputs": [
    {
     "name": "stderr",
     "output_type": "stream",
     "text": [
      "100%|██████████| 10/10 [02:55<00:00, 17.50s/it]\n"
     ]
    }
   ],
   "source": [
    "def apply_fine_grained_skill_grader_to_all_resumes(applicants_resume_analysis_df):\n",
    "    \"\"\"\n",
    "        Apply fine-grained skill grading to all resumes in the dataset.\n",
    "    \n",
    "        Parameters\n",
    "        ----------\n",
    "        resumes : dict\n",
    "            Mapping of resume IDs to their extracted text content.\n",
    "        desired_skills : list of str\n",
    "            Skills to evaluate for each candidate.\n",
    "    \n",
    "        Returns\n",
    "        -------\n",
    "        dict\n",
    "            Mapping of resume IDs to fine-grained skill grading results.\n",
    "        \"\"\"\n",
    "    fine_grained_skill_grade_dict = dict()\n",
    "    applicants_resume_analysis_df['summary'] = ''\n",
    "\n",
    "    for idx in tqdm(range(applicants_resume_analysis_df.shape[0])):\n",
    "\n",
    "\n",
    "        fine_grained_skill_grade_dict_for_one_candidate = dict()\n",
    "        pdf_content = applicants_resume_analysis_df.at[idx, 'pdf_content']\n",
    "        candidate_name = applicants_resume_analysis_df.at[idx, 'pdf_name']\n",
    "        # print(f'candidate_name: {candidate_name}')\n",
    "\n",
    "        for desired_skill in desired_skills_list:\n",
    "            if applicants_resume_analysis_df.at[idx, desired_skill]:\n",
    "                fine_grained_skill_grade_dict_for_one_candidate[desired_skill] = fine_grained_skill_grader(desired_skill, pdf_content)\n",
    "\n",
    "        # process dictionary to add key_experiences_count and years_of_experience_total\n",
    "        fine_grained_skill_grade_dict_for_one_candidate = process_desired_skills_summary_dict(fine_grained_skill_grade_dict_for_one_candidate)\n",
    "\n",
    "        # join summaries for different skills\n",
    "        candidate_summary = ' '.join( [details['summary'] for details in fine_grained_skill_grade_dict_for_one_candidate.values()])\n",
    "        fine_grained_skill_grade_dict_for_one_candidate['candidate_summary'] = candidate_summary\n",
    "\n",
    "        fine_grained_skill_grade_dict[candidate_name] = fine_grained_skill_grade_dict_for_one_candidate\n",
    "\n",
    "        applicants_resume_analysis_df.at[idx, 'summary'] = candidate_summary\n",
    "    \n",
    "    return fine_grained_skill_grade_dict, applicants_resume_analysis_df\n",
    "\n",
    "\n",
    "fine_grained_skill_grade_dict, applicants_resume_analysis_df = apply_fine_grained_skill_grader_to_all_resumes(applicants_resume_analysis_df)"
   ]
  },
  {
   "cell_type": "code",
   "execution_count": 22,
   "id": "ba855503",
   "metadata": {},
   "outputs": [],
   "source": [
    "# store the results\n",
    "write_csv_file(applicants_resume_analysis_df, applicants_resume_analysis_df_path)\n",
    "write_json_file(fine_grained_skill_grade_dict, fine_grained_skill_grade_dict_path)"
   ]
  },
  {
   "cell_type": "markdown",
   "id": "55ef5bce",
   "metadata": {},
   "source": [
    "# 6. 🧠 Skill Summary Writer\n",
    "### 6.1. Skill Summary Writer for one skill"
   ]
  },
  {
   "cell_type": "code",
   "execution_count": 23,
   "id": "3de494b8",
   "metadata": {},
   "outputs": [],
   "source": [
    "# import the defined chain for Skill Summary Writer\n",
    "from chains.skill_summary_writer import skill_summary_writer as skill_summary_writer_chain"
   ]
  },
  {
   "cell_type": "code",
   "execution_count": null,
   "id": "5b8770cd",
   "metadata": {},
   "outputs": [],
   "source": [
    "def skill_summary_writer(desired_skill, resume_content):\n",
    "    \"\"\"\n",
    "        Generate a structured summary for a candidate's skill.\n",
    "\n",
    "        Creates a concise profile including proficiency level, achievements,\n",
    "        and estimated experience duration based on resume content.\n",
    "\n",
    "        Parameters\n",
    "        ----------\n",
    "        resume_text : str\n",
    "            Extracted text from the candidate's resume.\n",
    "        skill_name : str\n",
    "            Skill to summarize.\n",
    "\n",
    "        Returns\n",
    "        -------\n",
    "        dict\n",
    "            Structured skill summary with proficiency, achievements, experience,\n",
    "            and confidence score.\n",
    "\n",
    "        Notes\n",
    "        -----\n",
    "        Supports HR review by providing clear, standardized skill descriptions.\n",
    "        \"\"\"\n",
    "    skill_summary = skill_summary_writer_chain.invoke(\n",
    "        {\n",
    "            'desired_skill': desired_skill,\n",
    "            'resume_content': resume_content\n",
    "        }\n",
    "    )\n",
    "\n",
    "    return skill_summary.model_dump()\n"
   ]
  },
  {
   "cell_type": "code",
   "execution_count": null,
   "id": "e4c1a7d7",
   "metadata": {},
   "outputs": [],
   "source": [
    "def apply_skill_summary_writer_to_all_resumes(applicants_resume_analysis_df):\n",
    "    \"\"\"\n",
    "        Apply skill summary generation to all resumes.\n",
    "    \n",
    "        Parameters\n",
    "        ----------\n",
    "        resumes : dict\n",
    "            Mapping of resume IDs to their extracted text content.\n",
    "        desired_skills : list of str\n",
    "            Skills for which summaries should be generated.\n",
    "    \n",
    "        Returns\n",
    "        -------\n",
    "        dict\n",
    "            Mapping of resume IDs to generated skill summaries.\n",
    "        \"\"\"\n",
    "    desired_skills_summary_dict = dict()\n",
    "    applicants_resume_analysis_df['summary'] = ''\n",
    "\n",
    "    for idx in range(applicants_resume_analysis_df.shape[0]):\n",
    "\n",
    "        desired_skills_summary_dict_for_one_candidate = dict()\n",
    "\n",
    "        pdf_content = applicants_resume_analysis_df.at[idx, 'pdf_content']\n",
    "        candidate_name = applicants_resume_analysis_df.at[idx, 'pdf_name']\n",
    "\n",
    "        for desired_skill in desired_skills_list:\n",
    "            if applicants_resume_analysis_df.at[idx, desired_skill]:\n",
    "                desired_skills_summary_dict_for_one_candidate[desired_skill] = skill_summary_writer(desired_skill, pdf_content)\n",
    "\n",
    "        desired_skills_summary_dict[candidate_name] = desired_skills_summary_dict_for_one_candidate\n",
    "\n",
    "        candidate_summary = ' '.join( [details['summary'] for details in desired_skills_summary_dict_for_one_candidate.values()])\n",
    "        applicants_resume_analysis_df.at[idx, 'summary'] = candidate_summary\n",
    "\n",
    "    return desired_skills_summary_dict, applicants_resume_analysis_df\n",
    "\n",
    "\n",
    "desired_skills_summary_dict, applicants_resume_analysis_df = apply_skill_summary_writer_to_all_resumes(applicants_resume_analysis_df)"
   ]
  },
  {
   "cell_type": "code",
   "execution_count": 26,
   "id": "e43b5388",
   "metadata": {},
   "outputs": [],
   "source": [
    "# store the results\n",
    "write_csv_file(applicants_resume_analysis_df, applicants_resume_analysis_df_path)\n",
    "write_json_file(desired_skills_summary_dict, desired_skills_summary_dict_path)"
   ]
  },
  {
   "cell_type": "markdown",
   "id": "75b8a80a",
   "metadata": {},
   "source": [
    "### 6.2. Skill Summary Writer for all matching skills in the resume\n",
    "create candidate summary based on summaries of available skills"
   ]
  },
  {
   "cell_type": "code",
   "execution_count": null,
   "id": "cc46f3b5",
   "metadata": {},
   "outputs": [],
   "source": [
    "def get_candidate_summary(desired_skills_summary_dict):\n",
    "    \"\"\"\n",
    "        Compile a final candidate summary from skill analysis results.\n",
    "    \n",
    "        Aggregates skill grading, summaries, and other metrics into a cohesive\n",
    "        profile for HR decision-making.\n",
    "    \n",
    "        Parameters\n",
    "        ----------\n",
    "        candidate_id : str\n",
    "            Unique identifier for the candidate.\n",
    "        skill_summaries : dict\n",
    "            Detailed skill summaries for the candidate.\n",
    "    \n",
    "        Returns\n",
    "        -------\n",
    "        dict\n",
    "            Final candidate profile ready for reranking or presentation.\n",
    "        \"\"\"\n",
    "    desired_skills_summary_dict_ = copy.deepcopy(desired_skills_summary_dict)\n",
    "\n",
    "    for candidate, details in desired_skills_summary_dict_.items():\n",
    "        candidate_summary = ' '.join([skill['summary'] for skill in details.values()])\n",
    "        desired_skills_summary_dict_[candidate]['candidate_summary'] = candidate_summary\n",
    "\n",
    "        # print(f'candidate: {candidate}')\n",
    "        # print(json.dumps(details, indent=4))\n",
    "    \n",
    "    return desired_skills_summary_dict_\n",
    "\n",
    "desired_skills_summary_dict_ = get_candidate_summary(desired_skills_summary_dict)"
   ]
  },
  {
   "cell_type": "code",
   "execution_count": 28,
   "id": "b911b682",
   "metadata": {},
   "outputs": [],
   "source": [
    "# store the results\n",
    "write_json_file(desired_skills_summary_dict_, desired_skills_summary_dict_path)"
   ]
  },
  {
   "cell_type": "markdown",
   "id": "b2045a20",
   "metadata": {},
   "source": [
    "# 7. 📊 Resume Reranker\n",
    "Uses Qwen3-Reranker-8B to sort shortlisted resumes against an ideal candidate profile."
   ]
  }
 ],
 "metadata": {
  "kernelspec": {
   "display_name": "farzanehlang",
   "language": "python",
   "name": "python3"
  },
  "language_info": {
   "codemirror_mode": {
    "name": "ipython",
    "version": 3
   },
   "file_extension": ".py",
   "mimetype": "text/x-python",
   "name": "python",
   "nbconvert_exporter": "python",
   "pygments_lexer": "ipython3",
   "version": "3.10.18"
  }
 },
 "nbformat": 4,
 "nbformat_minor": 5
}
